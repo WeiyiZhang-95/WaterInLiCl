{
 "cells": [
  {
   "cell_type": "code",
   "execution_count": null,
   "metadata": {},
   "outputs": [],
   "source": [
    "import matplotlib.pyplot as plt\n",
    "plt.style.use('seaborn-white')\n",
    "import seaborn as sns\n",
    "sns.set_style(\"white\")\n",
    "\n",
    "import scipy as sp\n",
    "import numpy as np\n",
    "import pandas as pd\n",
    "import os,sys"
   ]
  },
  {
   "cell_type": "code",
   "execution_count": null,
   "metadata": {},
   "outputs": [],
   "source": [
    "case = 'case2'\n",
    "tmp = 'LT'\n",
    "workdir = '/bigdata/greaneylab/wzhan097/proton_batterycase1-chg-modified/LT/'\n",
    "data_path = os.path.join(workdir,'E_sol/H3O_OH',case)"
   ]
  },
  {
   "cell_type": "code",
   "execution_count": null,
   "metadata": {},
   "outputs": [],
   "source": [
    "data_path"
   ]
  },
  {
   "cell_type": "markdown",
   "metadata": {},
   "source": [
    "# Read structure"
   ]
  },
  {
   "cell_type": "code",
   "execution_count": 2,
   "metadata": {},
   "outputs": [],
   "source": [
    "def readPOSCAR(filename, filedir = ''):\n",
    "    with open(os.path.join(filedir,filename), 'r') as f:\n",
    "        lines = f.readlines()\n",
    "        \n",
    "    title, unit , lines = lines[0],float(lines[1].split()[0]),lines[2:]\n",
    "    box,eles,lines = lines[:3],lines[3:5],lines[5:]\n",
    "    box = np.array([[float(e) for e in line.split()] for line in box])*unit\n",
    "    eles = sum([[e]*int(num) for e, num in zip(eles[0].split(),eles[1].split())], [])\n",
    "    \n",
    "    corr = lines[0]\n",
    "    def __coordinate(coor):\n",
    "        if corr == 'Direct\\n':\n",
    "            return np.matmul(box, coor.T).T\n",
    "        else:\n",
    "            return coor\n",
    "    \n",
    "    coords = lines[1:1+len(eles)]\n",
    "    coords = np.array([np.array([float(e) for e in line.split()]) for line in coords])\n",
    "    coords = __coordinate(coords)\n",
    "    atoms = {}\n",
    "    for ele,coord in zip(eles,coords):\n",
    "        atoms[ele] = atoms.get(ele,[])+[coord]\n",
    "    for ele in atoms:\n",
    "        atoms[ele] = np.array(atoms[ele])\n",
    "    \n",
    "    return box, unit, atoms\n",
    "from numpy.linalg import inv\n",
    "def writePOSCAR(box, unit, atoms, filename, filedir = ''):\n",
    "    \n",
    "    title = 'LiCl'\n",
    "    \n",
    "    lines = [title]\n",
    "    lines.append('\\t'+str(unit))\n",
    "    \n",
    "    boxline = ['\\t\\t'+'\\t'.join(list(map(str,e))) for e in box]\n",
    "    lines += boxline\n",
    "    \n",
    "    elename = ''\n",
    "    elenum = ''\n",
    "    coords = []\n",
    "    \n",
    "    \n",
    "    def __coordinate(coor,corr='Direct'):\n",
    "        if corr == 'Direct':\n",
    "            return np.matmul(inv(box), coor.T).T\n",
    "        else:\n",
    "            return coor\n",
    "    \n",
    "    \n",
    "    for key in atoms:\n",
    "        elename+='\\t'+key\n",
    "        elenum+='\\t'+str(len(atoms[key]))\n",
    "        coord = __coordinate(atoms[key])\n",
    "        coord = ['\\t'+'\\t'.join(list(map(str,e))) for e in coord]\n",
    "        coords+=coord\n",
    "        \n",
    "    lines+=[elename,elenum]\n",
    "    lines+=['Direct']\n",
    "    lines+=coords\n",
    "    \n",
    "    with open(os.path.join(filedir,filename), 'w+') as f:\n",
    "        f.writelines('\\n'.join(lines))\n",
    "    \n",
    "    return "
   ]
  },
  {
   "cell_type": "markdown",
   "metadata": {},
   "source": [
    "# Change Structure"
   ]
  },
  {
   "cell_type": "code",
   "execution_count": 3,
   "metadata": {},
   "outputs": [],
   "source": [
    "def findNearest(box, atom, aim_pool):\n",
    "    \"\"\"\n",
    "    Find the nearest one to given atom from a group of candidate\n",
    "    Input: \n",
    "        box: periodic box size\n",
    "        atom: given atom (position, dimention=3d)\n",
    "        aim pool: a list of positions.\n",
    "    Return:\n",
    "        index of closest atom in aim_pool\n",
    "    \n",
    "    \"\"\"\n",
    "    vecs = abs(np.array(aim_pool)-np.array(atom))\n",
    "    for i in range(3):\n",
    "        vecs[:,i] = np.minimum(vecs[:,i],box[i]-vecs[:,i])\n",
    "    distance = np.linalg.norm(vecs,axis=1)\n",
    "    return np.where(distance == min(distance))[0]\n",
    "def distance(box, atom, aim_pool):\n",
    "    vecs = abs(np.array(aim_pool, dtype='float')-np.array(atom, dtype='float'))\n",
    "    for i in range(3):\n",
    "        vecs[:,i] = np.minimum(vecs[:,i],box[i]-vecs[:,i])\n",
    "    distance = np.linalg.norm(vecs,axis=1)\n",
    "    return distance"
   ]
  },
  {
   "cell_type": "code",
   "execution_count": 4,
   "metadata": {},
   "outputs": [
    {
     "data": {
      "text/plain": [
       "\"    \\ndef addOH(pos, atoms, box):\\n    min_dis = 2\\n    if min(distance([box[0,0],box[1,1],box[2,2]], pos, np.concatenate(list(atoms.values())))) < min_dis:\\n        print('Not avaliable position')\\n        return atoms\\n    else:\\n        atoms['H'] = np.concatenate((atoms['H'],[pos]))\\n        print('Action applied')\\n        return atoms\\n\""
      ]
     },
     "execution_count": 4,
     "metadata": {},
     "output_type": "execute_result"
    }
   ],
   "source": [
    "def addProton(pos, atoms, box):\n",
    "    min_dis = 1.8\n",
    "    dis = min(distance([box[0,0],box[1,1],box[2,2]], pos, np.concatenate(list(atoms.values()))))\n",
    "    if dis < min_dis:\n",
    "        print('Not avaliable position')\n",
    "        print(dis)\n",
    "        return atoms\n",
    "    else:\n",
    "        atoms['H'] = np.concatenate((atoms['H'],[pos]))\n",
    "        print('Action applied')\n",
    "        return atoms\n",
    "'''    \n",
    "def addOH(pos, atoms, box):\n",
    "    min_dis = 2\n",
    "    if min(distance([box[0,0],box[1,1],box[2,2]], pos, np.concatenate(list(atoms.values())))) < min_dis:\n",
    "        print('Not avaliable position')\n",
    "        return atoms\n",
    "    else:\n",
    "        atoms['H'] = np.concatenate((atoms['H'],[pos]))\n",
    "        print('Action applied')\n",
    "        return atoms\n",
    "'''"
   ]
  },
  {
   "cell_type": "code",
   "execution_count": null,
   "metadata": {},
   "outputs": [],
   "source": [
    "box, unit, atoms = readPOSCAR('POSCAR-LT', filedir = os.path.join(data_path,'relaxed_struct'))"
   ]
  },
  {
   "cell_type": "code",
   "execution_count": null,
   "metadata": {},
   "outputs": [],
   "source": [
    "writePOSCAR(box, unit, atoms, 'test', filedir = '')"
   ]
  },
  {
   "cell_type": "code",
   "execution_count": null,
   "metadata": {},
   "outputs": [],
   "source": [
    "np.concatenate((atoms['H'],[[1,2,3]]))"
   ]
  },
  {
   "cell_type": "code",
   "execution_count": null,
   "metadata": {},
   "outputs": [],
   "source": [
    "np.concatenate(list(atoms.values())).shape"
   ]
  },
  {
   "cell_type": "code",
   "execution_count": null,
   "metadata": {},
   "outputs": [],
   "source": [
    "LT_pos = (np.array([3.01159 ,13.32980 ,12.49876])+np.array([5.81096 ,12.22732  ,8.48433]))/2\n",
    "LT_pos"
   ]
  },
  {
   "cell_type": "code",
   "execution_count": null,
   "metadata": {},
   "outputs": [],
   "source": [
    "addProton(LT_pos, atoms, box)"
   ]
  },
  {
   "cell_type": "code",
   "execution_count": null,
   "metadata": {},
   "outputs": [],
   "source": [
    "writePOSCAR(box, unit, atoms, 'POSCAR_extraProton', filedir = '')"
   ]
  },
  {
   "cell_type": "code",
   "execution_count": null,
   "metadata": {},
   "outputs": [],
   "source": [
    "box, unit, atoms = readPOSCAR('POSCAR-RT', filedir = os.path.join(data_path,'relaxed_struct'))\n",
    "RT_pos = (np.array([13.52940,9.22908,1.52398])+np.array([10.95449,11.32117,4.24529]))/2\n",
    "#RT_pos = (RT_pos+np.array([12.83812,5.61727,3.45880]))/2\n",
    "addProton(RT_pos, atoms, box)\n",
    "writePOSCAR(box, unit, atoms, 'POSCAR_extraProton_RT', filedir = '')\n"
   ]
  },
  {
   "cell_type": "code",
   "execution_count": null,
   "metadata": {},
   "outputs": [],
   "source": [
    "def fixAtom(file):\n",
    "    with open(file,'r') as f:\n",
    "        lines = f.readlines()\n",
    "    for i in range(8,len(lines)):\n",
    "        lines[i] = lines[i][:-1]+'\\tF\\tF\\tF\\n'\n",
    "    \n",
    "    with open(file,'w+') as f:\n",
    "        f.writelines(lines)\n",
    "    return lines"
   ]
  },
  {
   "cell_type": "code",
   "execution_count": null,
   "metadata": {},
   "outputs": [],
   "source": [
    "os.listdir('/rhome/wzhan097/bigdata/proton_battery/E_sol/H3O_OH/case2-fix/')"
   ]
  },
  {
   "cell_type": "code",
   "execution_count": null,
   "metadata": {},
   "outputs": [],
   "source": [
    "for dirname in os.listdir('/rhome/wzhan097/bigdata/proton_battery/E_sol/H3O_OH/case2-fix/'):\n",
    "    if dirname[0] not in 'RL':\n",
    "        continue\n",
    "    print(dirname)\n",
    "    fixAtom('/rhome/wzhan097/bigdata/proton_battery/E_sol/H3O_OH/case2-fix/'+dirname+'/POSCAR')"
   ]
  },
  {
   "cell_type": "code",
   "execution_count": null,
   "metadata": {},
   "outputs": [],
   "source": [
    "def hydPos(O,H1,H2,box):\n",
    "    O = np.array(O,dtype = float)\n",
    "    H1 = np.array(H1,dtype = float)\n",
    "    H2 = np.array(H2,dtype = float)\n",
    "    \n",
    "    def __periodic(vec,box):\n",
    "        for i,e in enumerate(vec):\n",
    "            while vec[i]>box[i]:\n",
    "                vec[i] = vec[i]-box[i]\n",
    "            while vec[i]<0:\n",
    "                vec[i] = vec[i]+box[i]\n",
    "        return vec\n",
    "    \n",
    "    def __diff(vec1,vec2,box):\n",
    "        vec = np.zeros(3)\n",
    "        for i,(e1,e2) in enumerate(zip(vec1,vec2)):\n",
    "            if e2-e1>box[i]/2:\n",
    "                vec[i] = e2-box[i]-e1\n",
    "            elif e2-e1<-box[i]/2:\n",
    "                vec[i] = e2+box[i]-e1\n",
    "            else:\n",
    "                vec[i] = e2-e1\n",
    "        return vec\n",
    "    \n",
    "    v_H1 = __diff(O,H1,box)\n",
    "    v_H2 = __diff(O,H2,box)\n",
    "    _x = (v_H1+v_H2)/np.linalg.norm(v_H1+v_H2)\n",
    "    _z = np.cross(v_H1,v_H2)\n",
    "    _z = _z/np.linalg.norm(_z)\n",
    "    _y = np.cross(_z,_x)\n",
    "    trans = np.concatenate(([_x],[_y],[_z]),axis = 0).T\n",
    "    Hyd=np.load(os.path.join('/rhome/wzhan097/shared/3x1x1PB-Weiyi/raptor/script','Hyd.npy'),allow_pickle=True)\n",
    "    for i in range(len(Hyd)):\n",
    "        _vec = np.array([Hyd[i,1:]],dtype = float).T\n",
    "        _vec = np.matmul(trans,_vec).T\n",
    "        Hyd[i,1:] = _vec+O\n",
    "        Hyd[i,1:] = __periodic(Hyd[i,1:],box)\n",
    "    return Hyd"
   ]
  },
  {
   "cell_type": "code",
   "execution_count": null,
   "metadata": {},
   "outputs": [],
   "source": [
    "box, unit, atoms"
   ]
  },
  {
   "cell_type": "code",
   "execution_count": null,
   "metadata": {},
   "outputs": [],
   "source": [
    "waterC1 = {}\n",
    "waterC1['O'] = atoms['O'][[24,47,78]]\n",
    "waterC1['H'] = atoms['H'][[48,49,94,95,156,157],]"
   ]
  },
  {
   "cell_type": "code",
   "execution_count": null,
   "metadata": {},
   "outputs": [],
   "source": [
    "waterC2 = {}\n",
    "waterC2['O'] = atoms['O'][[47,78]]\n",
    "waterC2['H'] = atoms['H'][[94,95,156,157],]"
   ]
  },
  {
   "cell_type": "code",
   "execution_count": null,
   "metadata": {},
   "outputs": [],
   "source": [
    "for e in waterC1:\n",
    "    waterC1[e] = waterC1[e]-[9.5,3,1]+[5,5,5]\n",
    "waterC1"
   ]
  },
  {
   "cell_type": "code",
   "execution_count": null,
   "metadata": {},
   "outputs": [],
   "source": []
  },
  {
   "cell_type": "code",
   "execution_count": null,
   "metadata": {},
   "outputs": [],
   "source": [
    "for e in waterC2:\n",
    "    waterC2[e] = waterC2[e]-[9.5,3,1]+[20,5,5]\n",
    "waterC2"
   ]
  },
  {
   "cell_type": "code",
   "execution_count": null,
   "metadata": {},
   "outputs": [],
   "source": [
    "newA = {}\n",
    "newA['O'] = np.concatenate((waterC1['O'],waterC2['O']))\n",
    "newA['H'] = np.concatenate((waterC1['H'],waterC2['H']))"
   ]
  },
  {
   "cell_type": "code",
   "execution_count": null,
   "metadata": {},
   "outputs": [],
   "source": [
    "newA"
   ]
  },
  {
   "cell_type": "code",
   "execution_count": null,
   "metadata": {},
   "outputs": [],
   "source": [
    "hydPos(newA['O'][4],newA['H'][8],newA['H'][9],[newBox[0,0],newBox[1,1],newBox[2,2]])"
   ]
  },
  {
   "cell_type": "code",
   "execution_count": null,
   "metadata": {},
   "outputs": [],
   "source": [
    "newA['H'][1] = [22.545076591787666, 7.811578788676513, 8.839151987117049]\n",
    "newA['H'][8] = [21.959667103885376, 6.4730969554054845, 8.038488579789208]\n",
    "newA['H'][9] = [23.362973394927664, 7.136848325638254, 7.573605705982493]"
   ]
  },
  {
   "cell_type": "code",
   "execution_count": null,
   "metadata": {},
   "outputs": [],
   "source": [
    "writePOSCAR(newBox, unit, newA, 'POSCAR_LT_1', filedir = '')"
   ]
  },
  {
   "cell_type": "code",
   "execution_count": null,
   "metadata": {},
   "outputs": [],
   "source": [
    "newStruct = {}\n",
    "newStruct['Li'] = atoms['Li'][8:9]\n",
    "\n",
    "newStruct['O'] = atoms['O'][[36,90,82,80]]\n",
    "newStruct['H'] = atoms['H'][[72,73,132,181,160,161,164,165],]"
   ]
  },
  {
   "cell_type": "code",
   "execution_count": null,
   "metadata": {},
   "outputs": [],
   "source": [
    "newStructClH2O = {}\n",
    "newStructClH2O['Cl'] = atoms['Cl'][2:3]\n",
    "\n",
    "newStructClH2O['O'] = atoms['O'][72:73]\n",
    "newStructClH2O['H'] = atoms['H'][[144,145],]"
   ]
  },
  {
   "cell_type": "code",
   "execution_count": null,
   "metadata": {},
   "outputs": [],
   "source": []
  },
  {
   "cell_type": "code",
   "execution_count": null,
   "metadata": {},
   "outputs": [],
   "source": [
    "for e in newStruct:\n",
    "    newStruct[e] = newStruct[e]-[1.5,5,4]+[5,5,5]"
   ]
  },
  {
   "cell_type": "code",
   "execution_count": null,
   "metadata": {},
   "outputs": [],
   "source": [
    "newStruct"
   ]
  },
  {
   "cell_type": "code",
   "execution_count": null,
   "metadata": {},
   "outputs": [],
   "source": [
    "newStruct"
   ]
  },
  {
   "cell_type": "code",
   "execution_count": null,
   "metadata": {},
   "outputs": [],
   "source": [
    "newStructClH2O"
   ]
  },
  {
   "cell_type": "code",
   "execution_count": null,
   "metadata": {},
   "outputs": [],
   "source": [
    "for e in newStructClH2O:\n",
    "    newStructClH2O[e] = newStructClH2O[e]-[1,0,8] + [15,5,5]"
   ]
  },
  {
   "cell_type": "code",
   "execution_count": null,
   "metadata": {},
   "outputs": [],
   "source": [
    "newStructClH2O"
   ]
  },
  {
   "cell_type": "code",
   "execution_count": null,
   "metadata": {},
   "outputs": [],
   "source": [
    "newA = {}\n",
    "newA['Li'] = newStruct['Li']\n",
    "newA['Cl'] = newStructClH2O['Cl']\n",
    "newA['O'] = np.concatenate((newStruct['O'],newStructClH2O['O']))\n",
    "newA['H'] = np.concatenate((newStruct['H'],newStructClH2O['H']))\n"
   ]
  },
  {
   "cell_type": "code",
   "execution_count": null,
   "metadata": {},
   "outputs": [],
   "source": [
    "newA"
   ]
  },
  {
   "cell_type": "code",
   "execution_count": null,
   "metadata": {},
   "outputs": [],
   "source": [
    "newBox = np.array([[30,  0. ,  0. ],\n",
    "        [ 0. , 20,  0. ],\n",
    "        [ 0. ,  0. , 20]])"
   ]
  },
  {
   "cell_type": "code",
   "execution_count": null,
   "metadata": {},
   "outputs": [],
   "source": [
    "writePOSCAR(newBox, unit, newA, 'POSCAR_LT_1', filedir = '')"
   ]
  },
  {
   "cell_type": "code",
   "execution_count": null,
   "metadata": {},
   "outputs": [],
   "source": [
    "newA['H'][7] = [25.293580290007903, 12.252061644556422, 9.06274635912817]\n",
    "newA['H'][8] = [26.533003682429996, 12.698729190394094, 10.082362726282344]\n",
    "newA['H'][9] = [25.006017414541848, 12.70271995941247, 10.624808599865318]"
   ]
  },
  {
   "cell_type": "code",
   "execution_count": null,
   "metadata": {},
   "outputs": [],
   "source": [
    "newA['O'][3],newA['H'][4],newA['H'][5]"
   ]
  },
  {
   "cell_type": "code",
   "execution_count": null,
   "metadata": {},
   "outputs": [],
   "source": [
    "hydPos(newA['O'][4],newA['H'][8],newA['H'][9],[newBox[0,0],newBox[1,1],newBox[2,2]])"
   ]
  },
  {
   "cell_type": "code",
   "execution_count": null,
   "metadata": {},
   "outputs": [],
   "source": [
    "newA['Cl'] = np.concatenate((newA['Cl'],[newA['Li'][0]+chg/2.08375 * 2.31631]))"
   ]
  },
  {
   "cell_type": "code",
   "execution_count": null,
   "metadata": {},
   "outputs": [],
   "source": [
    "#newA['O'][0]+(newA['O'][0]-newA['Li'][0])\n",
    "chg = (newA['O'][0]-newA['Li'][0])"
   ]
  },
  {
   "cell_type": "code",
   "execution_count": null,
   "metadata": {},
   "outputs": [],
   "source": [
    "chg/2.08375 * 2.31631"
   ]
  },
  {
   "cell_type": "code",
   "execution_count": null,
   "metadata": {},
   "outputs": [],
   "source": [
    "newA['O'] = newA['O'][1:]\n",
    "newA['H'] = newA['H'][2:]"
   ]
  },
  {
   "cell_type": "code",
   "execution_count": null,
   "metadata": {},
   "outputs": [],
   "source": [
    "newA"
   ]
  },
  {
   "cell_type": "code",
   "execution_count": 19,
   "metadata": {},
   "outputs": [],
   "source": [
    "dataPath = '/rhome/wzhan097/bigdata/proton_battery/E_sol/H3O_OH/case1-chg-modified/RT/'"
   ]
  },
  {
   "cell_type": "code",
   "execution_count": 20,
   "metadata": {},
   "outputs": [],
   "source": [
    "box, unit, atoms = readPOSCAR('POSCAR', filedir = dataPath)"
   ]
  },
  {
   "cell_type": "code",
   "execution_count": 21,
   "metadata": {},
   "outputs": [
    {
     "data": {
      "text/plain": [
       "{'Li': array([[ 1.13823873,  6.56858223,  0.46029506],\n",
       "        [12.25633316,  4.86507093,  9.49621898],\n",
       "        [ 1.01186823,  7.58722988,  8.78492585],\n",
       "        [ 7.80367061, 11.31053967,  4.7062264 ],\n",
       "        [10.56241278, 10.27470801, 11.604006  ],\n",
       "        [ 7.84497169,  7.64402475, 14.20167575],\n",
       "        [ 9.8227187 ,  2.52788997,  0.87180741],\n",
       "        [ 5.0245315 ,  3.84814179,  2.47997725],\n",
       "        [12.44669829, 13.93900108,  1.77651671],\n",
       "        [ 6.60142681, 11.55739259, 10.23761338],\n",
       "        [ 0.54617778, 11.89293198,  6.72266387],\n",
       "        [11.89935678,  6.57446898,  4.32740566],\n",
       "        [ 1.99202059, 14.03443078, 13.70276598]]),\n",
       " 'Cl': array([[ 0.69921719,  7.97480641, 11.17096887],\n",
       "        [ 3.12253063,  8.01588453,  0.84048674],\n",
       "        [ 1.87327635,  6.72551452,  4.5330957 ],\n",
       "        [ 8.70750356, 10.10597962,  6.7843329 ],\n",
       "        [ 1.23373234,  5.17331301, 13.13820948],\n",
       "        [11.21908086,  5.44917488, 12.98720902],\n",
       "        [ 4.84110663, 13.06198075,  2.28039955],\n",
       "        [13.18482016,  2.80332174,  3.96352621],\n",
       "        [ 9.38337739, 10.62453312,  3.27861358],\n",
       "        [ 9.06148702, 12.16146072, 10.89313447],\n",
       "        [ 6.36859602,  6.93353925,  5.62947448],\n",
       "        [ 9.28210212,  8.674054  , 12.71272831],\n",
       "        [10.42482744,  2.316004  ,  7.6064098 ]]),\n",
       " 'O': array([[3.85982468e+00, 1.37708566e-01, 1.40693767e+01],\n",
       "        [1.28287765e+01, 1.40963115e+01, 9.56121779e+00],\n",
       "        [3.29197174e+00, 9.66648108e+00, 3.78718170e+00],\n",
       "        [6.33944254e+00, 1.36725186e+01, 6.95361486e+00],\n",
       "        [7.19592766e-01, 3.46084510e+00, 7.35627368e+00],\n",
       "        [4.11543583e+00, 8.68535846e-01, 6.47548423e+00],\n",
       "        [8.03859041e-01, 1.04173622e+01, 2.30139320e-01],\n",
       "        [5.02920226e+00, 5.95054750e+00, 2.30041128e+00],\n",
       "        [8.01736880e+00, 2.28261758e+00, 1.26320968e-01],\n",
       "        [1.22341587e+01, 9.88823291e+00, 1.04681756e+01],\n",
       "        [4.48940951e+00, 4.23790068e+00, 1.22169788e+01],\n",
       "        [1.40296033e+01, 4.67533995e+00, 1.03808897e+01],\n",
       "        [4.75427655e+00, 1.40406225e+00, 1.16255654e+01],\n",
       "        [9.47670404e+00, 1.69596049e+00, 2.42763915e+00],\n",
       "        [8.78030091e+00, 3.35031441e+00, 1.21015095e+01],\n",
       "        [1.04390768e+01, 1.34198419e+01, 8.55778596e+00],\n",
       "        [1.09059595e+01, 3.58081800e+00, 1.01523227e+01],\n",
       "        [8.12111101e+00, 6.17665116e+00, 1.26672600e+00],\n",
       "        [8.17632687e+00, 3.35371973e-01, 8.35202454e+00],\n",
       "        [1.33714361e+01, 6.11741345e+00, 5.63728021e+00],\n",
       "        [2.10330434e-01, 6.40522804e+00, 2.24162462e+00],\n",
       "        [3.22110690e+00, 3.24828779e+00, 2.62296006e+00],\n",
       "        [1.04953460e+01, 6.75732791e+00, 5.70996728e+00],\n",
       "        [1.21209706e+01, 1.18361228e+01, 2.04195543e+00],\n",
       "        [3.54730392e+00, 7.63110538e+00, 1.21087744e+01],\n",
       "        [1.01834427e+01, 4.43141940e+00, 1.21300929e+00],\n",
       "        [8.19219225e-01, 1.12986112e+01, 2.89909865e+00],\n",
       "        [1.43707548e+01, 1.35867864e+01, 7.20393814e+00],\n",
       "        [1.14984265e+01, 7.96164906e+00, 4.59672316e-01],\n",
       "        [1.42887734e+01, 1.19200550e+01, 1.02411425e+01],\n",
       "        [1.26640516e+01, 4.29529515e+00, 7.52391347e+00],\n",
       "        [8.19422242e+00, 1.33901003e+01, 4.81811428e+00],\n",
       "        [1.42063559e+01, 7.89883165e+00, 1.41307387e+01],\n",
       "        [5.82384716e+00, 3.63439740e+00, 5.20169401e-01],\n",
       "        [1.07509207e+01, 1.41980239e+01, 2.30555353e+00],\n",
       "        [1.35403679e+01, 1.71125822e+00, 1.07107089e+01],\n",
       "        [7.25372414e+00, 1.43726711e-02, 1.33380839e+01],\n",
       "        [1.38643654e+01, 9.37616485e+00, 3.95784188e+00],\n",
       "        [5.55536181e+00, 3.09498947e+00, 6.83429150e+00],\n",
       "        [1.23312254e+01, 5.25364846e+00, 2.85701364e+00],\n",
       "        [3.58055135e+00, 1.10486791e+01, 1.80163730e-01],\n",
       "        [5.72360934e+00, 1.06218965e+01, 4.99262778e+00],\n",
       "        [2.27512829e+00, 1.30132218e+01, 1.20194504e+01],\n",
       "        [1.06010528e+01, 1.42347827e+01, 1.26878390e+01],\n",
       "        [1.37293420e+01, 7.87437772e+00, 7.93220321e+00],\n",
       "        [1.03485121e+00, 2.11430324e-01, 4.68373107e+00],\n",
       "        [1.24826075e+01, 5.61582366e-01, 5.91302605e+00],\n",
       "        [1.53855770e+00, 5.63941601e+00, 8.76197384e+00],\n",
       "        [8.69619716e+00, 3.50566495e+00, 3.99794893e+00],\n",
       "        [1.57319443e+00, 3.60119411e+00, 4.73028607e+00],\n",
       "        [5.07146874e+00, 8.65405489e+00, 7.92760696e+00],\n",
       "        [1.57891969e+00, 1.36674028e+01, 1.11585160e+00],\n",
       "        [1.09878623e+01, 1.96330257e+00, 1.40203251e+01],\n",
       "        [3.61758252e+00, 7.07965857e-01, 3.85650988e+00],\n",
       "        [1.39137747e+00, 1.11860432e+01, 8.27294015e+00],\n",
       "        [2.04585543e+00, 2.67013762e+00, 2.57811322e-01],\n",
       "        [1.14833474e+01, 1.11097492e+01, 1.29811730e+01],\n",
       "        [1.33397497e+01, 3.05578353e+00, 1.35129310e+01],\n",
       "        [2.33983319e+00, 6.24938069e-01, 1.07263737e+01],\n",
       "        [6.90239640e+00, 5.62379638e-01, 3.26729211e+00],\n",
       "        [5.68988430e+00, 7.90163922e+00, 1.08523135e+01],\n",
       "        [9.13014332e+00, 1.30176224e+01, 2.69858723e-01],\n",
       "        [2.72287225e+00, 1.04413003e+01, 1.11743567e+01],\n",
       "        [1.39125888e+01, 1.46463739e+01, 2.63996494e+00],\n",
       "        [4.16755447e+00, 5.49832509e+00, 9.71792900e+00],\n",
       "        [7.21848206e+00, 1.13144828e+01, 1.15665860e+00],\n",
       "        [5.80314827e+00, 2.98415027e+00, 3.83625639e+00],\n",
       "        [9.17233291e+00, 4.66411486e+00, 6.41209041e+00],\n",
       "        [5.29861555e+00, 1.23865702e+01, 1.31689837e+01],\n",
       "        [6.36019648e-01, 6.69556390e-01, 1.32977662e+01],\n",
       "        [1.08084740e+01, 8.18490051e+00, 8.33249506e+00],\n",
       "        [1.09653400e+01, 1.33273189e+01, 5.05321635e+00],\n",
       "        [1.13728165e+01, 1.15106601e+01, 6.95395969e+00],\n",
       "        [6.40790749e+00, 1.09526618e+01, 8.44996571e+00],\n",
       "        [7.58578488e+00, 1.13506451e+00, 1.08463933e+01],\n",
       "        [3.55203622e+00, 1.33131342e+01, 8.68219296e+00],\n",
       "        [8.52380784e+00, 5.25664126e+00, 1.01543414e+01],\n",
       "        [1.88360255e+00, 1.18213925e+01, 5.31237483e+00],\n",
       "        [6.52717690e+00, 8.85099274e+00, 6.42351985e-01],\n",
       "        [6.57096352e+00, 1.02906853e+01, 1.16065217e+01],\n",
       "        [8.57456867e+00, 7.41679033e+00, 3.70844650e+00],\n",
       "        [7.10640366e+00, 6.19867176e+00, 1.28320040e+01],\n",
       "        [5.58308970e+00, 1.33203031e+01, 1.04692620e+01],\n",
       "        [1.29136659e+01, 1.41959997e+01, 1.42215678e+01],\n",
       "        [4.02908492e+00, 5.34755936e+00, 6.56939833e+00],\n",
       "        [1.53980711e+00, 9.53413625e-01, 8.01587312e+00],\n",
       "        [1.40305013e+01, 1.17888635e+01, 1.31596046e+01],\n",
       "        [1.37452349e+01, 1.04647870e+01, 6.42948908e+00],\n",
       "        [1.15345833e+01, 8.19777012e+00, 3.20308029e+00],\n",
       "        [7.00342512e+00, 5.10198330e+00, 7.97167325e+00],\n",
       "        [1.09031338e+01, 6.12128062e+00, 1.01081573e+01],\n",
       "        [2.38383469e+00, 8.55064473e+00, 7.75594614e+00]]),\n",
       " 'H': array([[3.74777141e+00, 8.54369720e-01, 2.03731045e-01],\n",
       "        [4.30293487e+00, 5.05759670e-01, 1.32182840e+01],\n",
       "        [1.18679466e+01, 1.39416827e+01, 9.29349707e+00],\n",
       "        [1.30072843e+01, 2.62500579e-01, 9.97948944e+00],\n",
       "        [2.95339369e+00, 8.76661057e+00, 4.09453561e+00],\n",
       "        [2.55542555e+00, 9.96199890e+00, 3.20821690e+00],\n",
       "        [5.86745799e+00, 1.28713593e+01, 7.27843061e+00],\n",
       "        [6.95312883e+00, 1.41329838e+01, 7.62015965e+00],\n",
       "        [9.59851360e-01, 2.50408547e+00, 7.57596831e+00],\n",
       "        [1.14738755e+00, 3.47729835e+00, 6.39831739e+00],\n",
       "        [4.02108955e+00, 8.51145024e-01, 5.47854979e+00],\n",
       "        [4.91098133e+00, 3.38365550e-01, 6.71511784e+00],\n",
       "        [1.76635558e+00, 1.05846332e+01, 2.80384497e-01],\n",
       "        [6.75083521e-01, 9.44140414e+00, 1.15705229e-01],\n",
       "        [4.29337904e+00, 6.33427171e+00, 1.76904151e+00],\n",
       "        [5.19611852e+00, 6.52969869e+00, 3.09659516e+00],\n",
       "        [8.14385696e+00, 2.76920590e+00, 1.37893884e+01],\n",
       "        [7.71861246e+00, 1.42112300e+00, 1.42101305e+01],\n",
       "        [1.20239964e+01, 9.60845377e+00, 9.55343334e+00],\n",
       "        [1.29671420e+01, 9.24441775e+00, 1.06237539e+01],\n",
       "        [3.77724022e+00, 4.80770859e+00, 1.26250368e+01],\n",
       "        [4.28573605e+00, 4.37612827e+00, 1.12636284e+01],\n",
       "        [1.43584771e+01, 4.91745240e+00, 1.12487733e+01],\n",
       "        [1.91817805e-01, 5.12721026e+00, 9.80094355e+00],\n",
       "        [4.57173740e+00, 2.37695676e+00, 1.17650454e+01],\n",
       "        [5.64643531e+00, 1.36712541e+00, 1.11557250e+01],\n",
       "        [9.45870341e+00, 2.37019985e+00, 3.14014511e+00],\n",
       "        [8.58723810e+00, 1.29076729e+00, 2.56085454e+00],\n",
       "        [9.39076126e+00, 3.92082653e+00, 1.26164507e+01],\n",
       "        [8.55600905e+00, 4.01627155e+00, 1.13563295e+01],\n",
       "        [9.72414882e+00, 1.40417340e+01, 8.35081542e+00],\n",
       "        [9.97862460e+00, 1.28087811e+01, 9.23389776e+00],\n",
       "        [1.05103686e+01, 3.34311729e+00, 1.10142195e+01],\n",
       "        [1.05476531e+01, 2.99880654e+00, 9.45124084e+00],\n",
       "        [7.23808805e+00, 5.63280967e+00, 1.28756660e+00],\n",
       "        [8.26696717e+00, 6.63603002e+00, 2.20113303e+00],\n",
       "        [8.44991356e+00, 9.84926431e-01, 7.66780671e+00],\n",
       "        [7.95234710e+00, 7.82621864e-01, 9.20200154e+00],\n",
       "        [1.42581292e+01, 6.14170637e+00, 5.24597777e+00],\n",
       "        [1.32414675e+01, 5.28085997e+00, 6.12677064e+00],\n",
       "        [1.38913389e+01, 5.84654732e+00, 2.19907826e+00],\n",
       "        [6.56673414e-01, 6.12476392e+00, 3.05738673e+00],\n",
       "        [2.52433118e+00, 3.49270708e+00, 3.27599729e+00],\n",
       "        [2.73353766e+00, 2.86695700e+00, 1.80828627e+00],\n",
       "        [1.01346538e+01, 5.98365748e+00, 6.31810153e+00],\n",
       "        [9.78413151e+00, 7.13742035e+00, 5.17715282e+00],\n",
       "        [1.24981117e+01, 1.11893036e+01, 2.62810437e+00],\n",
       "        [1.11933645e+01, 1.15712633e+01, 2.23764316e+00],\n",
       "        [2.63722764e+00, 7.30731311e+00, 1.18180719e+01],\n",
       "        [3.54356623e+00, 7.54501799e+00, 1.30866376e+01],\n",
       "        [9.42209472e+00, 5.05477884e+00, 1.42866523e+00],\n",
       "        [1.07430699e+01, 4.84868615e+00, 5.48392134e-01],\n",
       "        [6.13980898e-01, 1.14484437e+01, 1.96408968e+00],\n",
       "        [2.04746221e-01, 1.05542818e+01, 3.15295996e+00],\n",
       "        [1.37463694e+01, 1.39981885e+01, 6.59763541e+00],\n",
       "        [1.38648699e+01, 1.36150069e+01, 8.11960166e+00],\n",
       "        [1.09092672e+01, 8.59303861e+00, 3.80253679e-02],\n",
       "        [1.15238429e+01, 7.26654544e+00, 1.42579963e+01],\n",
       "        [1.38267049e+01, 1.28127048e+01, 9.97860279e+00],\n",
       "        [1.35727489e+01, 1.12117218e+01, 1.03303287e+01],\n",
       "        [1.19739331e+01, 3.62080024e+00, 7.44013846e+00],\n",
       "        [1.35678985e+01, 3.80663776e+00, 7.43557645e+00],\n",
       "        [9.15731669e+00, 1.35018104e+01, 4.96826995e+00],\n",
       "        [7.70359165e+00, 1.34884447e+01, 5.67189432e+00],\n",
       "        [1.32990379e+01, 8.06184907e+00, 1.44516105e+01],\n",
       "        [1.41323665e+01, 7.94047436e+00, 1.31874182e+01],\n",
       "        [5.39037203e+00, 3.86361967e+00, 1.42049457e+01],\n",
       "        [6.51452022e+00, 2.96501828e+00, 5.02018069e-01],\n",
       "        [1.03467830e+01, 3.79574152e-01, 2.46517609e+00],\n",
       "        [1.07224495e+01, 1.37266041e+01, 3.17717141e+00],\n",
       "        [1.30809511e+01, 2.15392238e+00, 1.14409677e+01],\n",
       "        [1.40856035e+01, 2.40286276e+00, 1.03117347e+01],\n",
       "        [7.84512070e+00, 1.40456969e+01, 1.38124895e+01],\n",
       "        [6.41589884e+00, 1.41384284e+01, 1.32424807e+01],\n",
       "        [1.31531508e+01, 8.77643219e+00, 3.58326490e+00],\n",
       "        [1.13415362e-01, 8.73193865e+00, 4.14042171e+00],\n",
       "        [4.95550035e+00, 3.80474282e+00, 6.59522708e+00],\n",
       "        [4.97552985e+00, 2.28089494e+00, 6.89316938e+00],\n",
       "        [1.27061933e+01, 4.37512772e+00, 3.30721314e+00],\n",
       "        [1.15187993e+01, 4.96978016e+00, 2.38068288e+00],\n",
       "        [3.66224131e+00, 1.16794158e+01, 9.34498616e-01],\n",
       "        [3.81396096e+00, 1.01671465e+01, 4.50214090e-01],\n",
       "        [4.94390635e+00, 1.05178722e+01, 4.39008141e+00],\n",
       "        [5.63689584e+00, 9.93454370e+00, 5.67326415e+00],\n",
       "        [2.27966921e+00, 1.21765577e+01, 1.15368162e+01],\n",
       "        [2.21602385e+00, 1.37801991e+01, 1.13986282e+01],\n",
       "        [1.00069005e+01, 1.35782808e+01, 1.31598463e+01],\n",
       "        [1.06915912e+01, 1.38028004e+01, 1.17927459e+01],\n",
       "        [1.36624218e+01, 7.25111233e+00, 7.10209548e+00],\n",
       "        [1.36647057e+01, 8.79670426e+00, 7.58098598e+00],\n",
       "        [1.93840103e+00, 3.75151497e-01, 4.29827776e+00],\n",
       "        [1.12100813e+00, 1.39993141e+01, 5.09741912e+00],\n",
       "        [1.27303437e+01, 1.19316752e+00, 5.18701571e+00],\n",
       "        [1.19142403e+01, 1.10778400e+00, 6.55577898e+00],\n",
       "        [2.43770107e+00, 5.74533176e+00, 9.10435607e+00],\n",
       "        [1.44362053e+00, 4.76431384e+00, 8.25629019e+00],\n",
       "        [7.71523924e+00, 3.51316672e+00, 3.95355530e+00],\n",
       "        [8.95136104e+00, 3.91357288e+00, 4.89662936e+00],\n",
       "        [7.60368389e-01, 3.22605702e+00, 4.35195590e+00],\n",
       "        [1.46087069e+00, 4.54939155e+00, 4.43558830e+00],\n",
       "        [5.24652672e+00, 8.25874739e+00, 8.82148852e+00],\n",
       "        [5.49131628e+00, 8.05904931e+00, 7.22274746e+00],\n",
       "        [8.77285350e-01, 1.41419896e+01, 1.64040553e+00],\n",
       "        [2.40905307e+00, 1.35021633e+01, 1.59991940e+00],\n",
       "        [1.07620417e+01, 1.27694530e+00, 1.33241811e+01],\n",
       "        [1.19046221e+01, 2.25301161e+00, 1.39189047e+01],\n",
       "        [3.49287371e+00, 1.36221450e+00, 3.08661150e+00],\n",
       "        [4.02925510e+00, 1.46237925e+01, 3.34240839e+00],\n",
       "        [1.80442343e+00, 1.02936575e+01, 8.42298928e+00],\n",
       "        [9.33349001e-01, 1.14659424e+01, 9.08694935e+00],\n",
       "        [1.70644440e+00, 1.94273721e+00, 1.42132094e+01],\n",
       "        [2.18705011e+00, 3.42568666e+00, 1.41024886e+01],\n",
       "        [1.24480969e+01, 1.13923770e+01, 1.29707024e+01],\n",
       "        [1.09684793e+01, 1.16397286e+01, 1.35819756e+01],\n",
       "        [1.41558973e+01, 2.86675178e+00, 1.40818340e+01],\n",
       "        [1.31411787e+01, 4.03305913e+00, 1.33882627e+01],\n",
       "        [2.01522176e+00, 9.39250445e-01, 9.85711146e+00],\n",
       "        [3.32557907e+00, 7.85528109e-01, 1.08303135e+01],\n",
       "        [7.33455096e+00, 4.09738838e-02, 3.97880460e+00],\n",
       "        [6.31202325e+00, 3.55871633e-03, 2.77316683e+00],\n",
       "        [6.27041848e+00, 7.42650538e+00, 1.14899323e+01],\n",
       "        [4.79160226e+00, 8.06259356e+00, 1.12968145e+01],\n",
       "        [9.58035612e+00, 1.33484222e+01, 1.05948744e+00],\n",
       "        [8.33969031e+00, 1.23895189e+01, 5.17055798e-01],\n",
       "        [3.25640791e+00, 1.02788828e+01, 1.19712096e+01],\n",
       "        [2.04892585e+00, 9.73049756e+00, 1.11073653e+01],\n",
       "        [8.41432629e-02, 1.46542256e+01, 3.38923151e+00],\n",
       "        [1.35086605e+01, 8.63719984e-01, 2.67054715e+00],\n",
       "        [4.72035804e+00, 6.19361220e+00, 1.00606207e+01],\n",
       "        [4.70271086e+00, 5.21702485e+00, 8.95374493e+00],\n",
       "        [7.64291502e+00, 1.09918320e+01, 2.04683785e+00],\n",
       "        [6.45364271e+00, 1.19252809e+01, 1.46833626e+00],\n",
       "        [6.21180342e+00, 2.07672431e+00, 3.67398697e+00],\n",
       "        [5.74768218e+00, 2.92354279e+00, 4.83355915e+00],\n",
       "        [8.33298948e+00, 4.89454146e+00, 6.93771854e+00],\n",
       "        [9.53080046e+00, 3.86140179e+00, 6.84237053e+00],\n",
       "        [5.71380987e+00, 1.15335784e+01, 1.29335935e+01],\n",
       "        [4.42862232e+00, 1.21464194e+01, 1.35460774e+01],\n",
       "        [7.14241543e-01, 9.67990296e-01, 1.23689814e+01],\n",
       "        [1.41848493e+01, 3.57231018e-01, 1.34941592e+01],\n",
       "        [1.08722095e+01, 7.81314797e+00, 7.42155702e+00],\n",
       "        [1.00155724e+01, 8.77584332e+00, 8.27905355e+00],\n",
       "        [1.09632893e+01, 1.25197208e+01, 5.58952937e+00],\n",
       "        [1.15700703e+01, 1.40651691e+01, 5.45126279e+00],\n",
       "        [1.04396548e+01, 1.11027891e+01, 6.82375749e+00],\n",
       "        [1.10503301e+01, 1.22245591e+01, 7.63171042e+00],\n",
       "        [5.90681351e+00, 1.01573605e+01, 8.11155562e+00],\n",
       "        [7.22931347e+00, 1.08104637e+01, 7.90643927e+00],\n",
       "        [8.07268314e+00, 1.81771784e+00, 1.13429058e+01],\n",
       "        [7.63368754e+00, 4.55440440e-01, 1.16100027e+01],\n",
       "        [3.09007781e+00, 1.24745504e+01, 8.48415904e+00],\n",
       "        [2.87357563e+00, 1.37660286e+01, 9.22206681e+00],\n",
       "        [9.53611709e+00, 5.39066010e+00, 9.96557209e+00],\n",
       "        [8.02673068e+00, 5.13046953e+00, 9.30749088e+00],\n",
       "        [1.63314148e+00, 1.16903385e+01, 4.37369435e+00],\n",
       "        [2.79756311e+00, 1.14798523e+01, 5.39622121e+00],\n",
       "        [5.58252127e+00, 8.65420481e+00, 7.90642170e-01],\n",
       "        [6.67450225e+00, 9.84108932e+00, 7.74446118e-01],\n",
       "        [6.23465527e+00, 9.41690689e+00, 1.10813829e+01],\n",
       "        [7.51592226e+00, 1.00100738e+01, 1.19555304e+01],\n",
       "        [8.23860629e+00, 8.29453460e+00, 3.43844211e+00],\n",
       "        [7.82849398e+00, 7.10728464e+00, 4.36622628e+00],\n",
       "        [7.60590239e+00, 5.75260758e+00, 1.20920614e+01],\n",
       "        [6.22070863e+00, 5.75752472e+00, 1.29141764e+01],\n",
       "        [5.38707239e+00, 1.31793714e+01, 1.14371139e+01],\n",
       "        [4.87220411e+00, 1.34939879e+01, 9.86716594e+00],\n",
       "        [1.21235485e+01, 1.42953045e+01, 1.35617020e+01],\n",
       "        [1.33366628e+01, 1.33387839e+01, 1.39874423e+01],\n",
       "        [4.64138501e+00, 6.01223645e+00, 6.09989571e+00],\n",
       "        [3.16875583e+00, 5.63939983e+00, 6.23418885e+00],\n",
       "        [1.06924879e+00, 2.17775354e-01, 7.61397169e+00],\n",
       "        [2.42000701e+00, 8.71515380e-01, 7.56291644e+00],\n",
       "        [1.44711996e+01, 1.19336522e+01, 1.21920950e+01],\n",
       "        [1.29822997e-01, 1.11293898e+01, 1.36482326e+01],\n",
       "        [1.28954884e+01, 1.08513749e+01, 6.71621157e+00],\n",
       "        [1.36125248e+01, 1.01112505e+01, 5.52187799e+00],\n",
       "        [1.12640521e+01, 8.08167413e+00, 2.26021782e+00],\n",
       "        [1.09111009e+01, 8.86450970e+00, 3.59160074e+00],\n",
       "        [6.37297106e+00, 4.35142265e+00, 7.75870779e+00],\n",
       "        [6.85132849e+00, 5.86791132e+00, 7.35537679e+00],\n",
       "        [1.08567063e+01, 7.06280769e+00, 9.67048234e+00],\n",
       "        [1.10557180e+01, 6.40065997e+00, 1.10309223e+01],\n",
       "        [3.39982169e+00, 8.43884754e+00, 7.64131422e+00],\n",
       "        [2.04715023e+00, 8.61944233e+00, 6.82559171e+00]])}"
      ]
     },
     "execution_count": 21,
     "metadata": {},
     "output_type": "execute_result"
    }
   ],
   "source": [
    "atoms"
   ]
  },
  {
   "cell_type": "code",
   "execution_count": 22,
   "metadata": {},
   "outputs": [
    {
     "data": {
      "text/plain": [
       "array([0.78284, 0.56323, 0.89546])"
      ]
     },
     "execution_count": 22,
     "metadata": {},
     "output_type": "execute_result"
    }
   ],
   "source": [
    "(np.array([0.77373,   0.37069,   0.89567])+np.array([0.79195,   0.75577,   0.89525]))/2"
   ]
  },
  {
   "cell_type": "code",
   "execution_count": null,
   "metadata": {},
   "outputs": [],
   "source": []
  }
 ],
 "metadata": {
  "kernelspec": {
   "display_name": "Python 3",
   "language": "python",
   "name": "python3"
  },
  "language_info": {
   "codemirror_mode": {
    "name": "ipython",
    "version": 3
   },
   "file_extension": ".py",
   "mimetype": "text/x-python",
   "name": "python",
   "nbconvert_exporter": "python",
   "pygments_lexer": "ipython3",
   "version": "3.6.9"
  }
 },
 "nbformat": 4,
 "nbformat_minor": 2
}
