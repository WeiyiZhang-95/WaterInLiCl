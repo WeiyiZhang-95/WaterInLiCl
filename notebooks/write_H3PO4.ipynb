{
 "cells": [
  {
   "cell_type": "code",
   "execution_count": 11,
   "metadata": {},
   "outputs": [],
   "source": [
    "import numpy as np\n",
    "import os,sys\n",
    "import matplotlib.pyplot as plt"
   ]
  },
  {
   "cell_type": "code",
   "execution_count": 4,
   "metadata": {},
   "outputs": [],
   "source": [
    "filehead = \"H3PO4\\n  1.00000000000000\\n\"+\\\n",
    "\"\\t14.5000000000020002    0.0000000000000000    0.0000000000000000\\n\"+\\\n",
    "\"\\t0.0000000000000000   14.6999999999999993    0.0000000000000000\\n\"+\\\n",
    "\"\\t0.0000000000000000    0.0000000000000000   14.5000000000000302\\n\"+\\\n",
    "\"   O    P    H\\n\"+\\\n",
    "\"   126    18   162\\n\"+\\\n",
    "\"Cartesian\\n\""
   ]
  },
  {
   "cell_type": "code",
   "execution_count": 16,
   "metadata": {},
   "outputs": [],
   "source": [
    "idx = 6\n",
    "filedir = '/rhome/wzhan097/bigdata/H3PO4/packmol'\n",
    "filename = 'H3PO4_H2O_0'+str(idx)+'.xyz'\n",
    "\n",
    "with open(os.path.join(filedir,filename),'r') as f:\n",
    "    lines = f.readlines()[2:]\n",
    "lines = np.array([e.split() for e in lines])\n",
    "O_idx = np.where(lines[:,0]=='O')[0]\n",
    "P_idx = np.where(lines[:,0]=='P')[0]\n",
    "H_idx = np.where(lines[:,0]=='H')[0]\n",
    "newlines = np.concatenate((lines[O_idx],lines[P_idx],lines[H_idx]))\n",
    "newlines = [filehead]+['\\t'.join(e[1:])+'\\n' for e in newlines]"
   ]
  },
  {
   "cell_type": "code",
   "execution_count": 17,
   "metadata": {},
   "outputs": [],
   "source": [
    "filedir_save = '/bigdata/greaneylab/shared/H3PO4_Weiyi/vasp/0'+str(idx)\n",
    "filename_save = 'POSCAR'\n",
    "\n",
    "\n",
    "with open(os.path.join(filedir_save,filename_save),'w+') as f:\n",
    "    f.writelines(newlines)"
   ]
  },
  {
   "cell_type": "code",
   "execution_count": 18,
   "metadata": {},
   "outputs": [
    {
     "data": {
      "text/plain": [
       "(126, 18, 162)"
      ]
     },
     "execution_count": 18,
     "metadata": {},
     "output_type": "execute_result"
    }
   ],
   "source": [
    "len(O_idx),len(P_idx),len(H_idx),"
   ]
  },
  {
   "cell_type": "code",
   "execution_count": null,
   "metadata": {},
   "outputs": [],
   "source": []
  }
 ],
 "metadata": {
  "kernelspec": {
   "display_name": "Python 3",
   "language": "python",
   "name": "python3"
  },
  "language_info": {
   "codemirror_mode": {
    "name": "ipython",
    "version": 3
   },
   "file_extension": ".py",
   "mimetype": "text/x-python",
   "name": "python",
   "nbconvert_exporter": "python",
   "pygments_lexer": "ipython3",
   "version": "3.6.9"
  }
 },
 "nbformat": 4,
 "nbformat_minor": 2
}
